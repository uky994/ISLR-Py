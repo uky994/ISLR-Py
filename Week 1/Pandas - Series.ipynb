{
 "cells": [
  {
   "cell_type": "markdown",
   "metadata": {},
   "source": [
    "<img src=\"data:image/png;base64,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\" />"
   ]
  },
  {
   "cell_type": "markdown",
   "metadata": {},
   "source": [
    "# Pandas: Series\n",
    "\n",
    "Pandas is probably the most used library for data analysis. You'll get data from external sources, process it (combine, merge, etc), visualize it, performing statistical analysis, predicting with machine learning, and sure there will be other libraries, but Pandas is likely the most important library in the data science ecosystem.\n",
    "\n",
    "It's a very mature library. It's been around a long time. To get familiar with the different data structures available in Pandas we'll start with the 'Series'."
   ]
  },
  {
   "cell_type": "code",
   "execution_count": 1,
   "metadata": {},
   "outputs": [],
   "source": [
    "import pandas as pd\n",
    "import numpy as np #matplotlib, pandas and others all sit atop NumPy"
   ]
  },
  {
   "cell_type": "markdown",
   "metadata": {},
   "source": [
    "We'll start analyzing \"[The Group of Seven](https://en.wikipedia.org/wiki/Group_of_Seven)\". Which is a political formed by Canada, France, Germany, Italy, Japan, the United Kingdom and the United States. We'll start by analyzing population, and for that, we'll use a pandas.Series object."
   ]
  },
  {
   "cell_type": "code",
   "execution_count": 2,
   "metadata": {},
   "outputs": [],
   "source": [
    "# In millions\n",
    "g7_pop = pd.Series([35.467, 63.951, 80.940, 60.665, 127.061, 64.511, 318.523])"
   ]
  },
  {
   "cell_type": "markdown",
   "metadata": {},
   "source": [
    "The ordered sequence or indexed sequence of elements make up a series. It looks like a Python list, but there are some marked differences."
   ]
  },
  {
   "cell_type": "code",
   "execution_count": 3,
   "metadata": {},
   "outputs": [
    {
     "data": {
      "text/plain": [
       "0     35.467\n",
       "1     63.951\n",
       "2     80.940\n",
       "3     60.665\n",
       "4    127.061\n",
       "5     64.511\n",
       "6    318.523\n",
       "dtype: float64"
      ]
     },
     "execution_count": 3,
     "metadata": {},
     "output_type": "execute_result"
    }
   ],
   "source": [
    "g7_pop"
   ]
  },
  {
   "cell_type": "markdown",
   "metadata": {},
   "source": [
    "The first is that series have types. \n",
    "\n",
    "Someone might not know we're representing population in millions of inhabitants. Series can also have a name, to better document the purpose of the Series:"
   ]
  },
  {
   "cell_type": "code",
   "execution_count": 4,
   "metadata": {},
   "outputs": [],
   "source": [
    "g7_pop.name = 'G7 Population in millions'"
   ]
  },
  {
   "cell_type": "code",
   "execution_count": 5,
   "metadata": {},
   "outputs": [
    {
     "data": {
      "text/plain": [
       "0     35.467\n",
       "1     63.951\n",
       "2     80.940\n",
       "3     60.665\n",
       "4    127.061\n",
       "5     64.511\n",
       "6    318.523\n",
       "Name: G7 Population in millions, dtype: float64"
      ]
     },
     "execution_count": 5,
     "metadata": {},
     "output_type": "execute_result"
    }
   ],
   "source": [
    "g7_pop"
   ]
  },
  {
   "cell_type": "markdown",
   "metadata": {},
   "source": [
    "Series are pretty similar to numpy arrays:"
   ]
  },
  {
   "cell_type": "code",
   "execution_count": 6,
   "metadata": {},
   "outputs": [
    {
     "data": {
      "text/plain": [
       "dtype('float64')"
      ]
     },
     "execution_count": 6,
     "metadata": {},
     "output_type": "execute_result"
    }
   ],
   "source": [
    "g7_pop.dtype"
   ]
  },
  {
   "cell_type": "code",
   "execution_count": 7,
   "metadata": {},
   "outputs": [
    {
     "data": {
      "text/plain": [
       "array([ 35.467,  63.951,  80.94 ,  60.665, 127.061,  64.511, 318.523])"
      ]
     },
     "execution_count": 7,
     "metadata": {},
     "output_type": "execute_result"
    }
   ],
   "source": [
    "g7_pop.values"
   ]
  },
  {
   "cell_type": "markdown",
   "metadata": {},
   "source": [
    "They're actually backed by numpy arrays:"
   ]
  },
  {
   "cell_type": "code",
   "execution_count": 8,
   "metadata": {},
   "outputs": [
    {
     "data": {
      "text/plain": [
       "numpy.ndarray"
      ]
     },
     "execution_count": 8,
     "metadata": {},
     "output_type": "execute_result"
    }
   ],
   "source": [
    "type(g7_pop.values)"
   ]
  },
  {
   "cell_type": "markdown",
   "metadata": {},
   "source": [
    "And they look like simple Python lists or Numpy Arrays. But they're actually more similar to Python `dicts`.\n",
    "\n",
    "A Series has an `index`, that's similar to the automatic index assigned to Python's lists:"
   ]
  },
  {
   "cell_type": "code",
   "execution_count": 9,
   "metadata": {},
   "outputs": [
    {
     "data": {
      "text/plain": [
       "0     35.467\n",
       "1     63.951\n",
       "2     80.940\n",
       "3     60.665\n",
       "4    127.061\n",
       "5     64.511\n",
       "6    318.523\n",
       "Name: G7 Population in millions, dtype: float64"
      ]
     },
     "execution_count": 9,
     "metadata": {},
     "output_type": "execute_result"
    }
   ],
   "source": [
    "g7_pop"
   ]
  },
  {
   "cell_type": "code",
   "execution_count": 10,
   "metadata": {},
   "outputs": [
    {
     "data": {
      "text/plain": [
       "35.467"
      ]
     },
     "execution_count": 10,
     "metadata": {},
     "output_type": "execute_result"
    }
   ],
   "source": [
    "g7_pop[0] #get the first element"
   ]
  },
  {
   "cell_type": "code",
   "execution_count": 11,
   "metadata": {},
   "outputs": [
    {
     "data": {
      "text/plain": [
       "RangeIndex(start=0, stop=7, step=1)"
      ]
     },
     "execution_count": 11,
     "metadata": {},
     "output_type": "execute_result"
    }
   ],
   "source": [
    "g7_pop.index"
   ]
  },
  {
   "cell_type": "code",
   "execution_count": 12,
   "metadata": {},
   "outputs": [],
   "source": [
    "l = ['a', 'b', 'c'] # there is an index here: 0,1, 2"
   ]
  },
  {
   "cell_type": "markdown",
   "metadata": {},
   "source": [
    "But, in contrast to lists, we can explicitly define the index:"
   ]
  },
  {
   "cell_type": "code",
   "execution_count": 13,
   "metadata": {},
   "outputs": [],
   "source": [
    "g7_pop.index = [\n",
    "    'Canada',\n",
    "    'France',\n",
    "    'Germany',\n",
    "    'Italy',\n",
    "    'Japan',\n",
    "    'United Kingdom',\n",
    "    'United States',\n",
    "]"
   ]
  },
  {
   "cell_type": "code",
   "execution_count": 14,
   "metadata": {},
   "outputs": [
    {
     "data": {
      "text/plain": [
       "Canada             35.467\n",
       "France             63.951\n",
       "Germany            80.940\n",
       "Italy              60.665\n",
       "Japan             127.061\n",
       "United Kingdom     64.511\n",
       "United States     318.523\n",
       "Name: G7 Population in millions, dtype: float64"
      ]
     },
     "execution_count": 14,
     "metadata": {},
     "output_type": "execute_result"
    }
   ],
   "source": [
    "g7_pop"
   ]
  },
  {
   "cell_type": "markdown",
   "metadata": {},
   "source": [
    "Compare it with the [following table](https://docs.google.com/spreadsheets/d/1iZ8e0vzCq0ifT53hGcwnMpDEx6Y_alfm60Ld7xICLwU/edit?usp=sharing):"
   ]
  },
  {
   "cell_type": "markdown",
   "metadata": {},
   "source": [
    "<img src=\"data:image/png;base64,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\" />"
   ]
  },
  {
   "cell_type": "markdown",
   "metadata": {},
   "source": [
    "We can say that Series look like \"ordered dictionaries\". We can actually create Series out of dictionaries.\n",
    "\n",
    "Each of the methods below create the series from scratch."
   ]
  },
  {
   "cell_type": "code",
   "execution_count": 15,
   "metadata": {},
   "outputs": [
    {
     "data": {
      "text/plain": [
       "Canada             35.467\n",
       "France             63.951\n",
       "Germany            80.940\n",
       "Italy              60.665\n",
       "Japan             127.061\n",
       "United Kingdom     64.511\n",
       "United States     318.523\n",
       "Name: G7 Population in millions, dtype: float64"
      ]
     },
     "execution_count": 15,
     "metadata": {},
     "output_type": "execute_result"
    }
   ],
   "source": [
    "pd.Series({\n",
    "    'Canada': 35.467,\n",
    "    'France': 63.951,\n",
    "    'Germany': 80.94,\n",
    "    'Italy': 60.665,\n",
    "    'Japan': 127.061,\n",
    "    'United Kingdom': 64.511,\n",
    "    'United States': 318.523\n",
    "}, name='G7 Population in millions')"
   ]
  },
  {
   "cell_type": "code",
   "execution_count": 16,
   "metadata": {},
   "outputs": [
    {
     "data": {
      "text/plain": [
       "Canada             35.467\n",
       "France             63.951\n",
       "Germany            80.940\n",
       "Italy              60.665\n",
       "Japan             127.061\n",
       "United Kingdom     64.511\n",
       "United States     318.523\n",
       "Name: G7 Population in millions, dtype: float64"
      ]
     },
     "execution_count": 16,
     "metadata": {},
     "output_type": "execute_result"
    }
   ],
   "source": [
    "pd.Series(\n",
    "    [35.467, 63.951, 80.94, 60.665, 127.061, 64.511, 318.523],\n",
    "    index=['Canada', 'France', 'Germany', 'Italy', 'Japan', 'United Kingdom',\n",
    "       'United States'],\n",
    "    name='G7 Population in millions')"
   ]
  },
  {
   "cell_type": "code",
   "execution_count": 17,
   "metadata": {},
   "outputs": [
    {
     "data": {
      "text/plain": [
       "France     63.951\n",
       "Germany    80.940\n",
       "Italy      60.665\n",
       "Spain         NaN\n",
       "Name: G7 Population in millions, dtype: float64"
      ]
     },
     "execution_count": 17,
     "metadata": {},
     "output_type": "execute_result"
    }
   ],
   "source": [
    "pd.Series(g7_pop, index=['France', 'Germany', 'Italy', 'Spain'])"
   ]
  },
  {
   "cell_type": "markdown",
   "metadata": {},
   "source": [
    "***"
   ]
  },
  {
   "cell_type": "markdown",
   "metadata": {},
   "source": [
    "## Indexing\n",
    "\n",
    "Indexing works similarly to lists and dictionaries, you use the **index** of the element you're looking for:"
   ]
  },
  {
   "cell_type": "code",
   "execution_count": 18,
   "metadata": {},
   "outputs": [
    {
     "data": {
      "text/plain": [
       "Canada             35.467\n",
       "France             63.951\n",
       "Germany            80.940\n",
       "Italy              60.665\n",
       "Japan             127.061\n",
       "United Kingdom     64.511\n",
       "United States     318.523\n",
       "Name: G7 Population in millions, dtype: float64"
      ]
     },
     "execution_count": 18,
     "metadata": {},
     "output_type": "execute_result"
    }
   ],
   "source": [
    "g7_pop"
   ]
  },
  {
   "cell_type": "code",
   "execution_count": 19,
   "metadata": {},
   "outputs": [
    {
     "data": {
      "text/plain": [
       "35.467"
      ]
     },
     "execution_count": 19,
     "metadata": {},
     "output_type": "execute_result"
    }
   ],
   "source": [
    "g7_pop['Canada']"
   ]
  },
  {
   "cell_type": "code",
   "execution_count": 20,
   "metadata": {},
   "outputs": [
    {
     "data": {
      "text/plain": [
       "127.061"
      ]
     },
     "execution_count": 20,
     "metadata": {},
     "output_type": "execute_result"
    }
   ],
   "source": [
    "g7_pop['Japan']"
   ]
  },
  {
   "cell_type": "markdown",
   "metadata": {},
   "source": [
    "In sum, a series is an ordered sequence of elements backed up by a NumPy array making working with it fast and efficient. It also has an index that can take any labels we pass which makes indexing and filtering a lot easier."
   ]
  },
  {
   "cell_type": "markdown",
   "metadata": {},
   "source": [
    "Numeric positions can also be used, with the `iloc` attribute:"
   ]
  },
  {
   "cell_type": "code",
   "execution_count": 21,
   "metadata": {},
   "outputs": [
    {
     "data": {
      "text/plain": [
       "35.467"
      ]
     },
     "execution_count": 21,
     "metadata": {},
     "output_type": "execute_result"
    }
   ],
   "source": [
    "g7_pop.iloc[0] #locate by sequential position"
   ]
  },
  {
   "cell_type": "code",
   "execution_count": 22,
   "metadata": {},
   "outputs": [
    {
     "data": {
      "text/plain": [
       "318.523"
      ]
     },
     "execution_count": 22,
     "metadata": {},
     "output_type": "execute_result"
    }
   ],
   "source": [
    "g7_pop.iloc[-1]"
   ]
  },
  {
   "cell_type": "markdown",
   "metadata": {},
   "source": [
    "Selecting multiple elements at once:"
   ]
  },
  {
   "cell_type": "code",
   "execution_count": 23,
   "metadata": {},
   "outputs": [
    {
     "data": {
      "text/plain": [
       "Italy     60.665\n",
       "France    63.951\n",
       "Name: G7 Population in millions, dtype: float64"
      ]
     },
     "execution_count": 23,
     "metadata": {},
     "output_type": "execute_result"
    }
   ],
   "source": [
    "g7_pop[['Italy', 'France']]"
   ]
  },
  {
   "cell_type": "markdown",
   "metadata": {},
   "source": [
    "(The result is another Series)"
   ]
  },
  {
   "cell_type": "code",
   "execution_count": 24,
   "metadata": {},
   "outputs": [
    {
     "data": {
      "text/plain": [
       "Canada    35.467\n",
       "France    63.951\n",
       "Name: G7 Population in millions, dtype: float64"
      ]
     },
     "execution_count": 24,
     "metadata": {},
     "output_type": "execute_result"
    }
   ],
   "source": [
    "g7_pop.iloc[[0, 1]]"
   ]
  },
  {
   "cell_type": "markdown",
   "metadata": {},
   "source": [
    "Slicing also works, but **important**, in Pandas, the upper limit is also included:"
   ]
  },
  {
   "cell_type": "code",
   "execution_count": 25,
   "metadata": {},
   "outputs": [
    {
     "data": {
      "text/plain": [
       "Canada     35.467\n",
       "France     63.951\n",
       "Germany    80.940\n",
       "Italy      60.665\n",
       "Name: G7 Population in millions, dtype: float64"
      ]
     },
     "execution_count": 25,
     "metadata": {},
     "output_type": "execute_result"
    }
   ],
   "source": [
    "g7_pop['Canada': 'Italy']"
   ]
  },
  {
   "cell_type": "markdown",
   "metadata": {},
   "source": [
    "***"
   ]
  },
  {
   "cell_type": "markdown",
   "metadata": {},
   "source": [
    "## Conditional selection (boolean arrays)"
   ]
  },
  {
   "cell_type": "markdown",
   "metadata": {},
   "source": [
    "The same boolean array techniques we saw applied to numpy arrays can be used for Pandas `Series`:"
   ]
  },
  {
   "cell_type": "code",
   "execution_count": 26,
   "metadata": {},
   "outputs": [
    {
     "data": {
      "text/plain": [
       "Canada             35.467\n",
       "France             63.951\n",
       "Germany            80.940\n",
       "Italy              60.665\n",
       "Japan             127.061\n",
       "United Kingdom     64.511\n",
       "United States     318.523\n",
       "Name: G7 Population in millions, dtype: float64"
      ]
     },
     "execution_count": 26,
     "metadata": {},
     "output_type": "execute_result"
    }
   ],
   "source": [
    "g7_pop"
   ]
  },
  {
   "cell_type": "code",
   "execution_count": 27,
   "metadata": {},
   "outputs": [
    {
     "data": {
      "text/plain": [
       "Canada            False\n",
       "France            False\n",
       "Germany            True\n",
       "Italy             False\n",
       "Japan              True\n",
       "United Kingdom    False\n",
       "United States      True\n",
       "Name: G7 Population in millions, dtype: bool"
      ]
     },
     "execution_count": 27,
     "metadata": {},
     "output_type": "execute_result"
    }
   ],
   "source": [
    "g7_pop > 70"
   ]
  },
  {
   "cell_type": "code",
   "execution_count": 28,
   "metadata": {},
   "outputs": [
    {
     "data": {
      "text/plain": [
       "Germany           80.940\n",
       "Japan            127.061\n",
       "United States    318.523\n",
       "Name: G7 Population in millions, dtype: float64"
      ]
     },
     "execution_count": 28,
     "metadata": {},
     "output_type": "execute_result"
    }
   ],
   "source": [
    "g7_pop[g7_pop > 70]"
   ]
  },
  {
   "cell_type": "code",
   "execution_count": 29,
   "metadata": {},
   "outputs": [
    {
     "data": {
      "text/plain": [
       "107.30257142857144"
      ]
     },
     "execution_count": 29,
     "metadata": {},
     "output_type": "execute_result"
    }
   ],
   "source": [
    "g7_pop.mean()"
   ]
  },
  {
   "cell_type": "code",
   "execution_count": 30,
   "metadata": {},
   "outputs": [
    {
     "data": {
      "text/plain": [
       "Japan            127.061\n",
       "United States    318.523\n",
       "Name: G7 Population in millions, dtype: float64"
      ]
     },
     "execution_count": 30,
     "metadata": {},
     "output_type": "execute_result"
    }
   ],
   "source": [
    "g7_pop[g7_pop > g7_pop.mean()]"
   ]
  },
  {
   "cell_type": "code",
   "execution_count": 31,
   "metadata": {},
   "outputs": [
    {
     "data": {
      "text/plain": [
       "97.24996987121581"
      ]
     },
     "execution_count": 31,
     "metadata": {},
     "output_type": "execute_result"
    }
   ],
   "source": [
    "g7_pop.std()"
   ]
  },
  {
   "cell_type": "markdown",
   "metadata": {},
   "source": [
    "`~` not  \n",
    "`|` or  \n",
    "`&` and"
   ]
  },
  {
   "cell_type": "code",
   "execution_count": 32,
   "metadata": {
    "scrolled": true
   },
   "outputs": [
    {
     "data": {
      "text/plain": [
       "Canada            35.467\n",
       "United States    318.523\n",
       "Name: G7 Population in millions, dtype: float64"
      ]
     },
     "execution_count": 32,
     "metadata": {},
     "output_type": "execute_result"
    }
   ],
   "source": [
    "g7_pop[(g7_pop < g7_pop.mean() - g7_pop.std() / 2) | (g7_pop > g7_pop.mean() + g7_pop.std() / 2)]"
   ]
  },
  {
   "cell_type": "markdown",
   "metadata": {},
   "source": [
    "***"
   ]
  },
  {
   "cell_type": "markdown",
   "metadata": {},
   "source": [
    "## Operations and methods"
   ]
  },
  {
   "cell_type": "markdown",
   "metadata": {},
   "source": [
    "Series also support vectorized operations and aggregation functions as Numpy:"
   ]
  },
  {
   "cell_type": "code",
   "execution_count": 33,
   "metadata": {},
   "outputs": [
    {
     "data": {
      "text/plain": [
       "Canada             35.467\n",
       "France             63.951\n",
       "Germany            80.940\n",
       "Italy              60.665\n",
       "Japan             127.061\n",
       "United Kingdom     64.511\n",
       "United States     318.523\n",
       "Name: G7 Population in millions, dtype: float64"
      ]
     },
     "execution_count": 33,
     "metadata": {},
     "output_type": "execute_result"
    }
   ],
   "source": [
    "g7_pop"
   ]
  },
  {
   "cell_type": "code",
   "execution_count": 34,
   "metadata": {},
   "outputs": [
    {
     "data": {
      "text/plain": [
       "Canada             35467000.0\n",
       "France             63951000.0\n",
       "Germany            80940000.0\n",
       "Italy              60665000.0\n",
       "Japan             127061000.0\n",
       "United Kingdom     64511000.0\n",
       "United States     318523000.0\n",
       "Name: G7 Population in millions, dtype: float64"
      ]
     },
     "execution_count": 34,
     "metadata": {},
     "output_type": "execute_result"
    }
   ],
   "source": [
    "g7_pop * 1_000_000"
   ]
  },
  {
   "cell_type": "code",
   "execution_count": 35,
   "metadata": {},
   "outputs": [
    {
     "data": {
      "text/plain": [
       "107.30257142857144"
      ]
     },
     "execution_count": 35,
     "metadata": {},
     "output_type": "execute_result"
    }
   ],
   "source": [
    "g7_pop.mean()"
   ]
  },
  {
   "cell_type": "code",
   "execution_count": 36,
   "metadata": {},
   "outputs": [
    {
     "data": {
      "text/plain": [
       "Canada            3.568603\n",
       "France            4.158117\n",
       "Germany           4.393708\n",
       "Italy             4.105367\n",
       "Japan             4.844667\n",
       "United Kingdom    4.166836\n",
       "United States     5.763695\n",
       "Name: G7 Population in millions, dtype: float64"
      ]
     },
     "execution_count": 36,
     "metadata": {},
     "output_type": "execute_result"
    }
   ],
   "source": [
    "np.log(g7_pop)"
   ]
  },
  {
   "cell_type": "code",
   "execution_count": 37,
   "metadata": {},
   "outputs": [
    {
     "data": {
      "text/plain": [
       "68.51866666666666"
      ]
     },
     "execution_count": 37,
     "metadata": {},
     "output_type": "execute_result"
    }
   ],
   "source": [
    "g7_pop['France': 'Italy'].mean()"
   ]
  },
  {
   "cell_type": "markdown",
   "metadata": {},
   "source": [
    "***"
   ]
  },
  {
   "cell_type": "markdown",
   "metadata": {},
   "source": [
    "### Boolean arrays"
   ]
  },
  {
   "cell_type": "markdown",
   "metadata": {},
   "source": [
    "(Work in the same way as numpy)"
   ]
  },
  {
   "cell_type": "code",
   "execution_count": 38,
   "metadata": {},
   "outputs": [
    {
     "data": {
      "text/plain": [
       "Canada             35.467\n",
       "France             63.951\n",
       "Germany            80.940\n",
       "Italy              60.665\n",
       "Japan             127.061\n",
       "United Kingdom     64.511\n",
       "United States     318.523\n",
       "Name: G7 Population in millions, dtype: float64"
      ]
     },
     "execution_count": 38,
     "metadata": {},
     "output_type": "execute_result"
    }
   ],
   "source": [
    "g7_pop"
   ]
  },
  {
   "cell_type": "code",
   "execution_count": 39,
   "metadata": {},
   "outputs": [
    {
     "data": {
      "text/plain": [
       "Canada            False\n",
       "France            False\n",
       "Germany            True\n",
       "Italy             False\n",
       "Japan              True\n",
       "United Kingdom    False\n",
       "United States      True\n",
       "Name: G7 Population in millions, dtype: bool"
      ]
     },
     "execution_count": 39,
     "metadata": {},
     "output_type": "execute_result"
    }
   ],
   "source": [
    "g7_pop > 80"
   ]
  },
  {
   "cell_type": "code",
   "execution_count": 40,
   "metadata": {},
   "outputs": [
    {
     "data": {
      "text/plain": [
       "Germany           80.940\n",
       "Japan            127.061\n",
       "United States    318.523\n",
       "Name: G7 Population in millions, dtype: float64"
      ]
     },
     "execution_count": 40,
     "metadata": {},
     "output_type": "execute_result"
    }
   ],
   "source": [
    "g7_pop[g7_pop > 80] #broadcasting boolean operators works in pandas just like numpy."
   ]
  },
  {
   "cell_type": "code",
   "execution_count": 41,
   "metadata": {},
   "outputs": [
    {
     "data": {
      "text/plain": [
       "Canada            35.467\n",
       "Germany           80.940\n",
       "Japan            127.061\n",
       "United States    318.523\n",
       "Name: G7 Population in millions, dtype: float64"
      ]
     },
     "execution_count": 41,
     "metadata": {},
     "output_type": "execute_result"
    }
   ],
   "source": [
    "g7_pop[(g7_pop > 80) | (g7_pop < 40)]"
   ]
  },
  {
   "cell_type": "code",
   "execution_count": 42,
   "metadata": {},
   "outputs": [
    {
     "data": {
      "text/plain": [
       "Germany     80.940\n",
       "Japan      127.061\n",
       "Name: G7 Population in millions, dtype: float64"
      ]
     },
     "execution_count": 42,
     "metadata": {},
     "output_type": "execute_result"
    }
   ],
   "source": [
    "g7_pop[(g7_pop > 80) & (g7_pop < 200)]"
   ]
  },
  {
   "cell_type": "markdown",
   "metadata": {},
   "source": [
    "***"
   ]
  },
  {
   "cell_type": "markdown",
   "metadata": {},
   "source": [
    "## Modifying series"
   ]
  },
  {
   "cell_type": "code",
   "execution_count": 43,
   "metadata": {},
   "outputs": [],
   "source": [
    "g7_pop['Canada'] = 40.5"
   ]
  },
  {
   "cell_type": "code",
   "execution_count": 44,
   "metadata": {},
   "outputs": [
    {
     "data": {
      "text/plain": [
       "Canada             40.500\n",
       "France             63.951\n",
       "Germany            80.940\n",
       "Italy              60.665\n",
       "Japan             127.061\n",
       "United Kingdom     64.511\n",
       "United States     318.523\n",
       "Name: G7 Population in millions, dtype: float64"
      ]
     },
     "execution_count": 44,
     "metadata": {},
     "output_type": "execute_result"
    }
   ],
   "source": [
    "g7_pop"
   ]
  },
  {
   "cell_type": "code",
   "execution_count": 45,
   "metadata": {},
   "outputs": [],
   "source": [
    "g7_pop.iloc[-1] = 500"
   ]
  },
  {
   "cell_type": "code",
   "execution_count": 46,
   "metadata": {},
   "outputs": [
    {
     "data": {
      "text/plain": [
       "Canada             40.500\n",
       "France             63.951\n",
       "Germany            80.940\n",
       "Italy              60.665\n",
       "Japan             127.061\n",
       "United Kingdom     64.511\n",
       "United States     500.000\n",
       "Name: G7 Population in millions, dtype: float64"
      ]
     },
     "execution_count": 46,
     "metadata": {},
     "output_type": "execute_result"
    }
   ],
   "source": [
    "g7_pop"
   ]
  },
  {
   "cell_type": "code",
   "execution_count": 47,
   "metadata": {},
   "outputs": [
    {
     "data": {
      "text/plain": [
       "Canada            40.500\n",
       "France            63.951\n",
       "Italy             60.665\n",
       "United Kingdom    64.511\n",
       "Name: G7 Population in millions, dtype: float64"
      ]
     },
     "execution_count": 47,
     "metadata": {},
     "output_type": "execute_result"
    }
   ],
   "source": [
    "g7_pop[g7_pop < 70]"
   ]
  },
  {
   "cell_type": "code",
   "execution_count": 48,
   "metadata": {},
   "outputs": [],
   "source": [
    "g7_pop[g7_pop < 70] = 99.99"
   ]
  },
  {
   "cell_type": "code",
   "execution_count": 49,
   "metadata": {},
   "outputs": [
    {
     "data": {
      "text/plain": [
       "Canada             99.990\n",
       "France             99.990\n",
       "Germany            80.940\n",
       "Italy              99.990\n",
       "Japan             127.061\n",
       "United Kingdom     99.990\n",
       "United States     500.000\n",
       "Name: G7 Population in millions, dtype: float64"
      ]
     },
     "execution_count": 49,
     "metadata": {},
     "output_type": "execute_result"
    }
   ],
   "source": [
    "g7_pop"
   ]
  }
 ],
 "metadata": {
  "kernelspec": {
   "display_name": "Python 3",
   "language": "python",
   "name": "python3"
  },
  "language_info": {
   "codemirror_mode": {
    "name": "ipython",
    "version": 3
   },
   "file_extension": ".py",
   "mimetype": "text/x-python",
   "name": "python",
   "nbconvert_exporter": "python",
   "pygments_lexer": "ipython3",
   "version": "3.8.5"
  }
 },
 "nbformat": 4,
 "nbformat_minor": 4
}
